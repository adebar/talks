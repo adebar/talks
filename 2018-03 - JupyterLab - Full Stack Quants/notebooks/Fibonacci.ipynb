{
 "cells": [
  {
   "cell_type": "markdown",
   "metadata": {},
   "source": [
    "# Fibonacci Numbers\n",
    "\n",
    "The sequence $F_n$ of **Fibonacci numbers** is defined by the [recurrence relation](https://en.wikipedia.org/wiki/Recurrence_relation):\n",
    "\n",
    "$$F_n=F_{n-1} + F_{n-2},$$\n",
    "with [seed value](https://en.wikipedia.org/wiki/Seed_value)s\n",
    "$$F_0=0,\\; F_1=1.$$"
   ]
  },
  {
   "cell_type": "code",
   "execution_count": null,
   "metadata": {},
   "outputs": [],
   "source": [
    "def fibonacci(n=10):\n",
    "    if n == 0: return [0]\n",
    "    elif n == 1: return [0, 1]\n",
    "    else:\n",
    "        r = fibonacci(n - 1)\n",
    "        return r + [r[-2] + r[-1]]\n",
    "\n",
    "print(fibonacci(10))"
   ]
  },
  {
   "cell_type": "code",
   "execution_count": null,
   "metadata": {},
   "outputs": [],
   "source": [
    "%matplotlib inline\n",
    "import pandas as pd\n",
    "import seaborn\n",
    "\n",
    "pd.Series(fibonacci(10)).plot(kind='bar');"
   ]
  }
 ],
 "metadata": {
  "kernelspec": {
   "display_name": "Python 3",
   "language": "python",
   "name": "python3"
  },
  "language_info": {
   "codemirror_mode": {
    "name": "ipython",
    "version": 3
   },
   "file_extension": ".py",
   "mimetype": "text/x-python",
   "name": "python",
   "nbconvert_exporter": "python",
   "pygments_lexer": "ipython3",
   "version": "3.6.3"
  }
 },
 "nbformat": 4,
 "nbformat_minor": 2
}
